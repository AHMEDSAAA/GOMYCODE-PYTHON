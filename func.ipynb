{
  "nbformat": 4,
  "nbformat_minor": 0,
  "metadata": {
    "colab": {
      "name": "Untitled2.ipynb",
      "provenance": [],
      "toc_visible": true
    },
    "kernelspec": {
      "name": "python3",
      "display_name": "Python 3"
    },
    "language_info": {
      "name": "python"
    }
  },
  "cells": [
    {
      "cell_type": "code",
      "metadata": {
        "colab": {
          "base_uri": "https://localhost:8080/"
        },
        "id": "gEUYQ5DfMsVC",
        "outputId": "7fd11a36-0e0d-48fb-bb4a-68131c9f86a7"
      },
      "source": [
        "# Question 1\n",
        "# Write a Python function to find the Max of three numbers.\n",
        "#\n",
        "# for example, the max of these three numbers 20, 35, 19 is 35\n",
        "\n",
        "def maxi(num1,num2,num3):\n",
        "    return max(num1,num2,num3)\n",
        "print(maxi(20, 35, 19))\n",
        "\n",
        "#\n",
        "#\n",
        "# Question 2\n",
        "# Write a function calculation() such that it can accept two variables and calculate the addition and subtraction of it.\n",
        "# And also it must return both addition and subtraction in a single return call\n",
        "# For example:\n",
        "# calculation(40, 10) should produce 50, 30\n",
        "\n",
        "def calculation(num1,num2):\n",
        "    return num1+num2, abs(num1)-abs(num2)\n",
        "\n",
        "print(calculation(40, 10))\n",
        "\n",
        "# Question 3\n",
        "#\n",
        "# * Write a function that sums the elements of a list of integers.\n",
        "# * Write a function that multiplies the elements of an integer list.\n",
        "# * Use the two functions to sum the elements whose position is an even number (0,2,4…) and multiply the rest.\n",
        "# Hint: Consider extracting two lists from a first list\n",
        "\n",
        "def multi(liss =[1,2,3,4,5]):\n",
        "    multiplication = 1\n",
        "    multipl = 1\n",
        "    even = [j for i,j in enumerate(liss) if i % 2 == 0]\n",
        "    odd = [j for i,j in enumerate(liss) if i % 2 != 0]\n",
        "    addition = sum(liss)\n",
        "    for i in liss:\n",
        "        multiplication *= i\n",
        "    sum_even = sum(even)\n",
        "    for i in odd:\n",
        "        multipl *= i\n",
        "    return addition,multiplication,multipl,sum_even\n",
        "\n",
        "print(multi())\n",
        "\n",
        "\n",
        "# Question 4\n",
        "# Write a Python program that accepts a hyphen-separated sequence of words as input and prints the words in a hyphen-separated sequence after sorting them alphabetically.\n",
        "# Sample Items : green-red-yellow-black-white\n",
        "# Expected Result : black-green-red-white-yellow\n",
        "# Hint : There's a split function to separate your input string into words and a sort function to sort.\n",
        "\n",
        "def orders(string_with_hyphen):\n",
        "    liss = string_with_hyphen.split(\"-\")\n",
        "    return \"-\".join(sorted(liss))\n",
        "\n",
        "print(orders(\"green-red-yellow-black-white\"))\n",
        "\n",
        "# Question 5 (Bonus)\n",
        "# Write a function that calculates and prints the value according to the given formula: Q = Square root of [(2 * C * D)/H]\n",
        "# Following are the fixed values of C and H: C is 50. H is 30. D is the variable whose values should be input to your program in a comma-separated sequence.\n",
        "# Example Let us assume the following comma separated input sequence is given to the function: 100,150,180 The output of the program should be: 18,22,24\n",
        "# Hints: If the output received is in decimal form, it should be rounded off to its nearest value\n",
        "# (for example, if the output received is 26.0, it should be printed as 26) In case of input data being supplied to the question, it should be assumed to be a console input.\n",
        "\n",
        "import math\n",
        "def inputs(all = \"100,150,180\"):\n",
        "    ## [(2 * C * D)/H]\n",
        "    c = 50\n",
        "    h = 30\n",
        "    d_liss = [int(i) for i in all.split(\",\")]\n",
        "    liss = []\n",
        "    for i in d_liss:\n",
        "        liss.append(int(math.sqrt((2*c*i/h))))\n",
        "    return \",\".join([str(i) for i in liss])\n",
        "\n",
        "print(inputs())"
      ],
      "execution_count": 1,
      "outputs": [
        {
          "output_type": "stream",
          "name": "stdout",
          "text": [
            "35\n",
            "(50, 30)\n",
            "(15, 120, 8, 9)\n",
            "black-green-red-white-yellow\n",
            "18,22,24\n"
          ]
        }
      ]
    }
  ]
}