{
  "nbformat": 4,
  "nbformat_minor": 0,
  "metadata": {
    "colab": {
      "name": "Copy of Untitled0.ipynb",
      "provenance": []
    },
    "kernelspec": {
      "name": "python3",
      "display_name": "Python 3"
    },
    "language_info": {
      "name": "python"
    }
  },
  "cells": [
    {
      "cell_type": "code",
      "metadata": {
        "colab": {
          "base_uri": "https://localhost:8080/"
        },
        "id": "yCItRHid-FO2",
        "outputId": "ee437ed5-d15a-439c-82a5-72e2852a142c"
      },
      "source": [
        " print(\"Welcome to python world! Let's start coding\")\n",
        " "
      ],
      "execution_count": null,
      "outputs": [
        {
          "output_type": "stream",
          "name": "stdout",
          "text": [
            "Welcome to python world! Let's start coding\n"
          ]
        }
      ]
    },
    {
      "cell_type": "code",
      "metadata": {
        "colab": {
          "base_uri": "https://localhost:8080/"
        },
        "id": "MDhP3HlgaeGE",
        "outputId": "fde8e0c1-339a-4d56-c9b5-92160cff34ef"
      },
      "source": [
        "def lastfirst():\n",
        "    first, last = input(\"please Enter your First Name: \"), input(\"please Enter your Last Name: \")\n",
        "    return last + \" \"+ first\n",
        "\n",
        "print(lastfirst())\n",
        "\n",
        "\n",
        "# Write a Python program that accepts an integer (n) and computes the value of n+nn+nnn\n",
        "# Sample value of n is 5\n",
        "# Expected Result : 615 (5+55+555)\n",
        "\n",
        "def integ():\n",
        "    x = input(\"PLease Enter an integer: \")\n",
        "    xx = x+x\n",
        "    xxx = x+x+x\n",
        "    return int(x) + int(xx) + int(xxx)\n",
        "print(integ())\n",
        "\n",
        "\n",
        "#Write a Python program to find whether a given number (accept from the user) is even or odd, print out an appropriate message to the user.\n",
        "\n",
        "def EnterNumber():\n",
        "    x = input(\"PLease Enter an integer: \")\n",
        "    if int(x) % 2 == 0:\n",
        "        return \"Even\"\n",
        "    else:\n",
        "        return \"Odd\"\n",
        "print(EnterNumber())\n",
        "\n",
        "\n",
        "#Write a program which will find all such numbers which are divisible by 7 but are not a multiple of 5,\n",
        "#between 2000 and 3200 (both included). The numbers obtained should be printed in a sequence on a single line.\n",
        "\n",
        "# for i in range(2000,3200):\n",
        "#     if i % 7 == 0 and i % 5 != 0:\n",
        "#         print(i, end= \" \")\n",
        "\n",
        "\n",
        "## factorial\n",
        "\n",
        "def factorial():\n",
        "    n = int(input(\"Enter A number to calculate Factorial: \"))\n",
        "    final = 1\n",
        "    for i in range(n+1):\n",
        "        for j in range(1,i):\n",
        "            final *= i\n",
        "            break\n",
        "    return final\n",
        "\n",
        "print(factorial())\n",
        "\n",
        "#  Write a program to remove the characters which have odd index values of a given string.\n",
        "#  for example: string =\"hello team\"\n",
        "#  the result should be: hlota\n",
        "\n",
        "def cutAword():\n",
        "    n = input(\"Enter the sentence to be cut: \")\n",
        "    final = \"\"\n",
        "    for i,j in enumerate(n):\n",
        "        if i % 2 == 0:\n",
        "            final += j\n",
        "        else:\n",
        "            continue\n",
        "    return final\n",
        "print(cutAword())\n",
        "\n",
        "#In this challenge, you must discount a price according to its value.\n",
        "#- If the price is 500 or above, there will be a 50% discount.\n",
        "#- If the price is between 200 and 500 (200 inclusive), there will be a 30% discount.\n",
        "#- If the price is less than 200, there will be a 10% discount.\n",
        "\n",
        "\n",
        "price = int(input(\"Enter the price: \"))\n",
        "\n",
        "if price >= 500:\n",
        "    print(f\"discount is {price // 2} which is 50%\")\n",
        "elif  200 <= price < 500:\n",
        "    print(f\"discount is {price // 3.3} which is 30%\")\n",
        "else:\n",
        "    print(f\"discount is {price // 10} which is 10%\")\n"
      ],
      "execution_count": 9,
      "outputs": [
        {
          "output_type": "stream",
          "name": "stdout",
          "text": [
            "please Enter your First Name: ahmed\n",
            "please Enter your Last Name: salah\n",
            "salah ahmed\n",
            "PLease Enter an integer: 8\n",
            "984\n",
            "PLease Enter an integer: 12\n",
            "Even\n",
            "Enter A number to calculate Factorial: 8\n",
            "40320\n",
            "Enter the sentence to be cut: hello world\n",
            "hlowrd\n",
            "Enter the price: 199\n",
            "discount is 19 which is 10%\n"
          ]
        }
      ]
    }
  ]
}