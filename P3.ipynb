{
  "nbformat": 4,
  "nbformat_minor": 0,
  "metadata": {
    "colab": {
      "name": "Untitled1.ipynb",
      "provenance": []
    },
    "kernelspec": {
      "name": "python3",
      "display_name": "Python 3"
    },
    "language_info": {
      "name": "python"
    }
  },
  "cells": [
    {
      "cell_type": "code",
      "metadata": {
        "colab": {
          "base_uri": "https://localhost:8080/"
        },
        "id": "BIHk2TnyWmqC",
        "outputId": "e1dc59f1-f68f-47c8-fba9-c79306c9d0d5"
      },
      "source": [
        "#####   Objective\n",
        "#####   Question1:\n",
        "#####\n",
        "#####   Write a Python program to multiplies all the items in a list.\n",
        "#####\n",
        "#####   for example list=[2, 3, 6]\n",
        "#####\n",
        "#####   result = 36\n",
        "\n",
        "def total(liss):\n",
        "    tot = 1\n",
        "    for i,j in enumerate(liss):\n",
        "        if i != 0:\n",
        "            tot *= (j)\n",
        "        else:\n",
        "            tot *= j\n",
        "    return tot\n",
        "print(total([2,3,6]))\n",
        "\n",
        "#####   Question2:\n",
        "#####\n",
        "#####   Write a Python program to get a list, sorted in increasing order by the last element in each tuple from a given list of non-empty tuples.\n",
        "#####   Sample List : [(2, 5), (1, 2), (4, 4), (2, 3), (2, 1)]\n",
        "#####   Expected Result : [(2, 1), (1, 2), (2, 3), (4, 4), (2, 5)]\n",
        "#####\n",
        "#####   Hint: You can use sort function\n",
        "\n",
        "def ord(liss):\n",
        "    for i in range(1,len(liss)):\n",
        "        for j in range(i,0,-1):\n",
        "            if liss[j][-1] < liss[j-1][-1]:\n",
        "                liss[j],liss[j-1] = liss[j-1],liss[j]\n",
        "            else:\n",
        "                break\n",
        "    return(liss)\n",
        "\n",
        "print(ord([(2, 5),(2, 3),(1, 2),(4, 4),(2, 1)]))\n",
        "\n",
        "\n",
        "#####   Question3:\n",
        "#####\n",
        "#####   Write a Python program to combine two dictionary adding values for common keys.\n",
        "#####\n",
        "d1 = {'a': 100, 'b': 200, 'c':300,\"f\":150,\"e\":100}\n",
        "d2 = {'a': 300, 'b': 200, 'd':400,\"y\":90}\n",
        "#####   Expected output: {'a': 400, 'b': 400, 'd': 400, 'c': 300}\n",
        "#####\n",
        "def dicCount(d1,d2):\n",
        "    final = {}\n",
        "    for i in d1:\n",
        "        if i in d2:\n",
        "            final[i] = d1[i] + d2[i]\n",
        "        elif i not in d2:\n",
        "            final[i] = d1[i]\n",
        "    for x in d2:\n",
        "        if x in d1:\n",
        "            final[x] = d1[x] + d2[x]\n",
        "        elif x not in d1:\n",
        "            final[x] = d2[x]\n",
        "\n",
        "    return final\n",
        "print(dicCount(d1,d2))\n",
        "\n",
        "#####   Question 4\n",
        "#####\n",
        "#####   Question: With a given integral number n, write a program to generate a dictionary that contains (i, i*i) such\n",
        "# that is an integral number between 1 and n (both included). and then the program should print the dictionary.\n",
        "# Suppose the following input is supplied to the program: 8 Then, the output should be: {1: 1, 2: 4, 3: 9, 4: 16, 5: 25, 6: 36, 7: 49, 8: 64}\n",
        "\n",
        "def multiDict(n):\n",
        "    final = {}\n",
        "    for i in range(1,n+1):\n",
        "        final[i] = i*i\n",
        "    return final\n",
        "\n",
        "print(multiDict(8))\n",
        "\n",
        "#####   Question 5:\n",
        "#####\n",
        "#####   Write a program to sort a tuple by its float element.\n",
        "#####   For example list= [('item1', '12.20'), ('item2', '15.10'), ('item3', '24.5')]\n",
        "#####   Expected Output: [('item3', '24.5'), ('item2', '15.10'), ('item1', '12.20')]\n",
        "\n",
        "def ordtub(liss):\n",
        "    for i in range(1,len(liss)):\n",
        "        for j in range(i,0,-1):\n",
        "            if int(str(liss[j][-1].split(\".\")[-1])) < int(str(liss[j-1][-1].split(\".\")[-1])):\n",
        "                liss[j],liss[j-1] = liss[j-1],liss[j]\n",
        "            else:\n",
        "                break\n",
        "    return(liss)\n",
        "\n",
        "print(ordtub([('item1', '12.20'), ('item2', '15.10'), ('item3', '24.5'),('item4', '24.80'),('item3', '24.0')]))"
      ],
      "execution_count": 1,
      "outputs": [
        {
          "output_type": "stream",
          "name": "stdout",
          "text": [
            "36\n",
            "[(2, 1), (1, 2), (2, 3), (4, 4), (2, 5)]\n",
            "{'a': 400, 'b': 400, 'c': 300, 'f': 150, 'e': 100, 'd': 400, 'y': 90}\n",
            "{1: 1, 2: 4, 3: 9, 4: 16, 5: 25, 6: 36, 7: 49, 8: 64}\n",
            "[('item3', '24.0'), ('item3', '24.5'), ('item2', '15.10'), ('item1', '12.20'), ('item4', '24.80')]\n"
          ]
        }
      ]
    }
  ]
}