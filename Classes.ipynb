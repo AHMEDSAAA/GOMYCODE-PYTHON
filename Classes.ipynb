{
  "nbformat": 4,
  "nbformat_minor": 0,
  "metadata": {
    "colab": {
      "name": "Untitled3.ipynb",
      "provenance": []
    },
    "kernelspec": {
      "name": "python3",
      "display_name": "Python 3"
    },
    "language_info": {
      "name": "python"
    }
  },
  "cells": [
    {
      "cell_type": "code",
      "metadata": {
        "id": "Z0BZ72XDcJIP",
        "outputId": "59a3df83-da7a-4a0b-ab3e-284ff41eb38a",
        "colab": {
          "base_uri": "https://localhost:8080/"
        }
      },
      "source": [
        "# 1 # Write a python class named Point3D defined by x, y, and z. Define a method that returns (x, y ,z). This tells Python to represent this object in the following format: (x, y, z).\n",
        "## Then create a variable named my_point containing a new instance of Point3D with x=1, y=2, and z=3 and print it.\n",
        "class Point3D:\n",
        "    def __init__(self, x, y, z):\n",
        "        self.x = x\n",
        "        self.y = y\n",
        "        self.z = z\n",
        "    def prin(self):\n",
        "        return (self.x,self.y,self.z)\n",
        "\n",
        "my_point = Point3D(x=1,y=2,z=3)\n",
        "print(my_point.prin())\n",
        "\n",
        "# 2 # Write a Python class named Rectangle constructed by a length and width. Define two methods area and perimeter which will compute the area and the perimeter of the rectangle.\n",
        "## Then create a variable named my_rectangle containing a new instance of Rectangle with width=3 and length = 4 and compute both of area and perimeter\n",
        "# ( the area is expected to be 3*4=12 and perimeter 2*(3+4)=14)\n",
        "\n",
        "class Rectangle:\n",
        "    def __init__(self, length, width):\n",
        "        self.length = length\n",
        "        self.width = width\n",
        "    def area(self):\n",
        "        return self.length * self.width\n",
        "\n",
        "    def perimeter(self):\n",
        "        return (self.width * 2) + (self.length * 2)\n",
        "\n",
        "my_rectangle = Rectangle(4,3).area(),Rectangle(4,3).perimeter()\n",
        "print(\"my_rectangle Area is {}, my_rectangle perimeter is {}\".format(my_rectangle[0],my_rectangle[1]))\n",
        "\n",
        "\n",
        "\n",
        "# 3 # Write a Python  class named Circle constructed by its center O and radius r. Define two methods area and perimeter which will compute the area and the perimeter of the circle,\n",
        "## and isInside() method of the class which allows to test whether a point A(x, y) belongs to the circle C(O, r) or not.\n",
        "\n",
        "class Circle:\n",
        "    center = 0\n",
        "    pi = 3.14\n",
        "    def __init__(self,radius):\n",
        "        self.radius = radius\n",
        "\n",
        "    def area(self):\n",
        "        return (self.radius * self.radius) * self.pi\n",
        "\n",
        "    def perimeter(self):\n",
        "        return (2 * self.radius) * self.pi\n",
        "\n",
        "    def checks(self, x=1, y=1):\n",
        "        if ((x - self.center) * (x - self.radius) +\n",
        "                (y - self.center) * (y - self.radius) <= self.radius * self.radius):\n",
        "            return f\"point ({x},{y}) is inside the circle\"\n",
        "        else:\n",
        "            return f\"point ({x},{y}) is not inside the circle\"\n",
        "\n",
        "\n",
        "circ = Circle(10)\n",
        "print(circ.radius)\n",
        "print(circ.area())\n",
        "print(circ.checks(100,10))\n",
        "\n",
        "\n",
        "# 4 # Suppose we want to model a bank account with support for deposit and withdraw operations. Let’s create a python class named bank defined by its balance.\n",
        "## Define two methods deposit and withdraw to compute the new amount of each operation.\n",
        "\n",
        "class bank:\n",
        "    def __init__(self,balance):\n",
        "        self.balance = balance\n",
        "\n",
        "    def deposit(self,amount):\n",
        "        self.balance += amount\n",
        "        return self.balance\n",
        "\n",
        "    def withdraw(self, amount):\n",
        "        if self.balance >= amount:\n",
        "            self.balance -= amount\n",
        "            return self.balance\n",
        "        else:\n",
        "            return (\"no sufficient amount for this withdraw\")\n",
        "\n",
        "acc1 = bank(1000)\n",
        "print(acc1.balance)\n",
        "print(acc1.deposit(100))\n",
        "print(acc1.withdraw(500))"
      ],
      "execution_count": 1,
      "outputs": [
        {
          "output_type": "stream",
          "name": "stdout",
          "text": [
            "(1, 2, 3)\n",
            "my_rectangle Area is 12, my_rectangle perimeter is 14\n",
            "10\n",
            "314.0\n",
            "point (100,10) is not inside the circle\n",
            "1000\n",
            "1100\n",
            "600\n"
          ]
        }
      ]
    }
  ]
}